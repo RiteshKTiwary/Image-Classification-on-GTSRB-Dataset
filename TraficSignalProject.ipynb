{
  "nbformat": 4,
  "nbformat_minor": 0,
  "metadata": {
    "colab": {
      "provenance": [],
      "gpuType": "T4"
    },
    "kernelspec": {
      "name": "python3",
      "display_name": "Python 3"
    },
    "language_info": {
      "name": "python"
    },
    "accelerator": "GPU"
  },
  "cells": [
    {
      "cell_type": "code",
      "execution_count": null,
      "metadata": {
        "id": "h8EM6Mpynrgu"
      },
      "outputs": [],
      "source": [
        "import os\n",
        "import numpy as np\n",
        "import pandas as pd\n",
        "import matplotlib.pyplot as plt\n",
        "from PIL import Image\n",
        "import tensorflow as tf\n",
        "from keras.utils import to_categorical\n",
        "from keras.layers import Conv2D, Dense, Flatten, MaxPool2D, Dropout"
      ]
    },
    {
      "cell_type": "code",
      "source": [
        "import zipfile\n",
        "\n",
        "# Define the path to your ZIP file and the files you want to add\n",
        "zip_file_path = '/content/drive/MyDrive/traficSignalDataset.zip'\n",
        "# Define the directory where you want to extract the files\n",
        "extract_to_directory = '/content'\n",
        "\n",
        "# Open the ZIP file for reading\n",
        "with zipfile.ZipFile(zip_file_path, 'r') as zipf:\n",
        "    # Extract all files and directories to the specified directory\n",
        "    zipf.extractall(extract_to_directory)\n",
        "\n",
        "print(\"Files extracted successfully.\")"
      ],
      "metadata": {
        "colab": {
          "base_uri": "https://localhost:8080/"
        },
        "id": "Y74JjioWtTbn",
        "outputId": "7885009d-9b9e-4c1b-f8fd-fbd8c67c8230"
      },
      "execution_count": null,
      "outputs": [
        {
          "output_type": "stream",
          "name": "stdout",
          "text": [
            "Files extracted successfully.\n"
          ]
        }
      ]
    },
    {
      "cell_type": "code",
      "source": [
        "imgs_path = \"/content/Train\""
      ],
      "metadata": {
        "id": "ti1TohgNq95W"
      },
      "execution_count": null,
      "outputs": []
    },
    {
      "cell_type": "code",
      "source": [
        "data = []\n",
        "labels = []\n",
        "classes = 43\n",
        "for i in range(classes):\n",
        "    img_path = os.path.join(imgs_path, str(i))  # Subdirectory for each class (0-42)\n",
        "\n",
        "    for img_name in os.listdir(img_path):\n",
        "        img_path_full = os.path.join(img_path, img_name)  # Full path to the image\n",
        "        im = Image.open(img_path_full)\n",
        "        im = im.resize((30, 30))\n",
        "        im = np.array(im)\n",
        "        data.append(im)\n",
        "        labels.append(i)\n",
        "\n",
        "data = np.array(data)\n",
        "labels = np.array(labels)\n",
        "print(\"Success\")\n"
      ],
      "metadata": {
        "id": "OLqgNdO_p-j7",
        "colab": {
          "base_uri": "https://localhost:8080/"
        },
        "outputId": "1feadbc1-52c9-4811-f74f-a5be41702021"
      },
      "execution_count": null,
      "outputs": [
        {
          "output_type": "stream",
          "name": "stdout",
          "text": [
            "Success\n"
          ]
        }
      ]
    },
    {
      "cell_type": "code",
      "source": [
        "path = \"/content/Train/0/00000_00004_00029.png\"\n",
        "img = Image.open(path)\n",
        "img = img.resize((30, 30))\n",
        "sr = np.array(img)\n",
        "plt.imshow(img)"
      ],
      "metadata": {
        "id": "zio94pE4bGwr",
        "colab": {
          "base_uri": "https://localhost:8080/",
          "height": 447
        },
        "outputId": "c5e22486-4dde-431f-f227-80ea5d88b8b9"
      },
      "execution_count": null,
      "outputs": [
        {
          "output_type": "execute_result",
          "data": {
            "text/plain": [
              "<matplotlib.image.AxesImage at 0x7a384c25d0c0>"
            ]
          },
          "metadata": {},
          "execution_count": 10
        },
        {
          "output_type": "display_data",
          "data": {
            "text/plain": [
              "<Figure size 640x480 with 1 Axes>"
            ],
            "image/png": "[encoded data removed]"
          },
          "metadata": {}
        }
      ]
    },
    {
      "cell_type": "code",
      "source": [
        "from sklearn.model_selection import train_test_split\n",
        "x_train, x_test, y_train, y_test = train_test_split(data, labels, test_size=0.2, random_state=42)\n",
        "print(\"training shape: \",x_train.shape, y_train.shape)\n",
        "print(\"testing shape: \",x_test.shape, y_test.shape)\n",
        "y_train = to_categorical(y_train, 43)\n",
        "y_test = to_categorical(y_test, 43)"
      ],
      "metadata": {
        "id": "sKwU0iyPbbZy",
        "colab": {
          "base_uri": "https://localhost:8080/"
        },
        "outputId": "5360dc45-9e83-4236-a480-73dccd7b1e1c"
      },
      "execution_count": null,
      "outputs": [
        {
          "output_type": "stream",
          "name": "stdout",
          "text": [
            "training shape:  (31367, 30, 30, 3) (31367,)\n",
            "testing shape:  (7842, 30, 30, 3) (7842,)\n"
          ]
        }
      ]
    },
    {
      "cell_type": "code",
      "source": [
        "from tensorflow.keras.models import Sequential\n",
        "\n",
        "model = Sequential()\n",
        "model.add(Conv2D(filters=32, kernel_size=(5,5), activation=\"relu\", input_shape=x_train.shape[1:]))\n",
        "model.add(Conv2D(filters=32, kernel_size=(5,5), activation=\"relu\"))\n",
        "model.add(MaxPool2D(pool_size=(2,2)))\n",
        "model.add(Dropout(rate=0.25))\n",
        "model.add(Conv2D(filters=64, kernel_size=(3,3), activation=\"relu\"))\n",
        "model.add(Conv2D(filters=64, kernel_size=(3,3), activation=\"relu\"))\n",
        "model.add(MaxPool2D(pool_size=(2,2)))\n",
        "model.add(Dropout(rate=0.25))\n",
        "model.add(Flatten())\n",
        "model.add(Dense(256, activation=\"relu\"))\n",
        "model.add(Dropout(rate=0.5))\n",
        "model.add(Dense(43, activation=\"softmax\"))"
      ],
      "metadata": {
        "id": "9jjDK19lbhRf"
      },
      "execution_count": null,
      "outputs": []
    },
    {
      "cell_type": "code",
      "source": [
        "from tensorflow.keras.optimizers import Adam\n",
        "# Compile the model\n",
        "optimizer = Adam(lr=0.001)  # You can adjust the learning rate as needed\n",
        "model.compile(optimizer=optimizer, loss='categorical_crossentropy', metrics=['accuracy'])"
      ],
      "metadata": {
        "colab": {
          "base_uri": "https://localhost:8080/"
        },
        "id": "0ym7hrOFgzcR",
        "outputId": "f0c26b81-480c-4ae8-94ab-521b04de61e4"
      },
      "execution_count": null,
      "outputs": [
        {
          "output_type": "stream",
          "name": "stderr",
          "text": [
            "WARNING:absl:`lr` is deprecated in Keras optimizer, please use `learning_rate` or use the legacy optimizer, e.g.,tf.keras.optimizers.legacy.Adam.\n"
          ]
        }
      ]
    },
    {
      "cell_type": "code",
      "source": [
        "epochs = 15\n",
        "history = model.fit(x_train, y_train, epochs=epochs, batch_size=64, validation_data=(x_test, y_test))"
      ],
      "metadata": {
        "id": "3yRYPAz2bmna",
        "colab": {
          "base_uri": "https://localhost:8080/"
        },
        "outputId": "b8b90d51-6dc1-400f-cf67-9a1e9840b548"
      },
      "execution_count": null,
      "outputs": [
        {
          "output_type": "stream",
          "name": "stdout",
          "text": [
            "Epoch 1/15\n",
            "491/491 [==============================] - 16s 9ms/step - loss: 2.2689 - accuracy: 0.4738 - val_loss: 0.5398 - val_accuracy: 0.8790\n",
            "Epoch 2/15\n",
            "491/491 [==============================] - 5s 10ms/step - loss: 0.7468 - accuracy: 0.7952 - val_loss: 0.2740 - val_accuracy: 0.9278\n",
            "Epoch 3/15\n",
            "491/491 [==============================] - 4s 8ms/step - loss: 0.4969 - accuracy: 0.8593 - val_loss: 0.1354 - val_accuracy: 0.9675\n",
            "Epoch 4/15\n",
            "491/491 [==============================] - 3s 7ms/step - loss: 0.3795 - accuracy: 0.8907 - val_loss: 0.1569 - val_accuracy: 0.9601\n",
            "Epoch 5/15\n",
            "491/491 [==============================] - 4s 9ms/step - loss: 0.3309 - accuracy: 0.9024 - val_loss: 0.0940 - val_accuracy: 0.9778\n",
            "Epoch 6/15\n",
            "491/491 [==============================] - 3s 6ms/step - loss: 0.2872 - accuracy: 0.9158 - val_loss: 0.0796 - val_accuracy: 0.9764\n",
            "Epoch 7/15\n",
            "491/491 [==============================] - 3s 7ms/step - loss: 0.2444 - accuracy: 0.9291 - val_loss: 0.1056 - val_accuracy: 0.9688\n",
            "Epoch 8/15\n",
            "491/491 [==============================] - 3s 6ms/step - loss: 0.2139 - accuracy: 0.9388 - val_loss: 0.0555 - val_accuracy: 0.9843\n",
            "Epoch 9/15\n",
            "491/491 [==============================] - 4s 8ms/step - loss: 0.2025 - accuracy: 0.9394 - val_loss: 0.0629 - val_accuracy: 0.9819\n",
            "Epoch 10/15\n",
            "491/491 [==============================] - 3s 7ms/step - loss: 0.1988 - accuracy: 0.9412 - val_loss: 0.0769 - val_accuracy: 0.9782\n",
            "Epoch 11/15\n",
            "491/491 [==============================] - 4s 7ms/step - loss: 0.1986 - accuracy: 0.9433 - val_loss: 0.0574 - val_accuracy: 0.9834\n",
            "Epoch 12/15\n",
            "491/491 [==============================] - 3s 7ms/step - loss: 0.1657 - accuracy: 0.9514 - val_loss: 0.0692 - val_accuracy: 0.9805\n",
            "Epoch 13/15\n",
            "491/491 [==============================] - 4s 8ms/step - loss: 0.1741 - accuracy: 0.9516 - val_loss: 0.0561 - val_accuracy: 0.9857\n",
            "Epoch 14/15\n",
            "491/491 [==============================] - 3s 6ms/step - loss: 0.1723 - accuracy: 0.9504 - val_loss: 0.0403 - val_accuracy: 0.9881\n",
            "Epoch 15/15\n",
            "491/491 [==============================] - 3s 7ms/step - loss: 0.1525 - accuracy: 0.9564 - val_loss: 0.0388 - val_accuracy: 0.9888\n"
          ]
        }
      ]
    },
    {
      "cell_type": "code",
      "source": [
        "plt.figure(0)\n",
        "plt.plot(history.history['accuracy'], label=\"Training accuracy\")\n",
        "plt.plot(history.history['val_accuracy'], label=\"val accuracy\")\n",
        "plt.title(\"Accuracy\")\n",
        "plt.xlabel(\"epochs\")\n",
        "plt.ylabel(\"accuracy\")\n",
        "plt.legend()\n",
        "plt.figure(1)\n",
        "plt.plot(history.history['loss'], label=\"training loss\")\n",
        "plt.plot(history.history['val_loss'], label=\"val loss\")\n",
        "plt.title(\"Loss\")\n",
        "plt.xlabel(\"epochs\")\n",
        "plt.ylabel(\"Loss\")\n",
        "plt.legend()\n",
        "plt.show()"
      ],
      "metadata": {
        "id": "wQAhQkLnbqeH",
        "colab": {
          "base_uri": "https://localhost:8080/",
          "height": 927
        },
        "outputId": "3d0150ea-97ca-4166-9946-fb1fe715db8d"
      },
      "execution_count": null,
      "outputs": [
        {
          "output_type": "display_data",
          "data": {
            "text/plain": [
              "<Figure size 640x480 with 1 Axes>"
            ],
            "image/png": "[encoded data removed]"
          },
          "metadata": {}
        },
        {
          "output_type": "display_data",
          "data": {
            "text/plain": [
              "<Figure size 640x480 with 1 Axes>"
            ],
            "image/png": "[encoded data removed]"
          },
          "metadata": {}
        }
      ]
    },
    {
      "cell_type": "code",
      "source": [
        "from sklearn.metrics import accuracy_score\n",
        "import pandas as pd\n",
        "\n",
        "test = pd.read_csv(\"/content/Test.csv\")\n",
        "test_true_labels = test['ClassId'].values  # Renamed to avoid variable name collision\n",
        "test_img_path = \"/content\"\n",
        "test_imgs = test['Path'].values\n",
        "test_data = []\n",
        "\n",
        "for img in test_imgs:\n",
        "    im = Image.open(test_img_path + '/' + img)\n",
        "    im = im.resize((30, 30))\n",
        "    im = np.array(im)\n",
        "    test_data.append(im)\n",
        "\n",
        "test_data = np.array(test_data)\n",
        "predictions = model.predict(test_data)\n",
        "predicted_classes = np.argmax(predictions, axis=1)\n",
        "\n",
        "accuracy = accuracy_score(test_true_labels, predicted_classes)\n",
        "print(\"Accuracy:\", accuracy)"
      ],
      "metadata": {
        "id": "R5dNEy-XbuLN",
        "colab": {
          "base_uri": "https://localhost:8080/"
        },
        "outputId": "45bd0131-2029-478f-cede-6a4a0cf36ec4"
      },
      "execution_count": null,
      "outputs": [
        {
          "output_type": "stream",
          "name": "stdout",
          "text": [
            "395/395 [==============================] - 1s 2ms/step\n",
            "Accuracy: 0.9452098178939035\n"
          ]
        }
      ]
    },
    {
      "cell_type": "code",
      "source": [
        "model.save('traffic_classifier.h5')"
      ],
      "metadata": {
        "id": "8RWgEtHKbxD4",
        "colab": {
          "base_uri": "https://localhost:8080/"
        },
        "outputId": "f34b8109-bb3f-48de-e382-f65627720edc"
      },
      "execution_count": null,
      "outputs": [
        {
          "output_type": "stream",
          "name": "stderr",
          "text": [
            "/usr/local/lib/python3.10/dist-packages/keras/src/engine/training.py:3000: UserWarning: You are saving your model as an HDF5 file via `model.save()`. This file format is considered legacy. We recommend using instead the native Keras format, e.g. `model.save('my_model.keras')`.\n",
            "  saving_api.save_model(\n"
          ]
        }
      ]
    },
    {
      "cell_type": "code",
      "source": [
        "def classify_image(file_path):\n",
        "    image = Image.open(file_path)\n",
        "    image = image.resize((30, 30))\n",
        "    image = np.array(image)\n",
        "    image = np.expand_dims(image, axis=0)\n",
        "    predictions = model.predict(image)\n",
        "    pred_class = np.argmax(predictions, axis=-1)[0] + 1  # Adding 1 to match your class numbering\n",
        "    sign = classes[pred_class]\n",
        "    return sign"
      ],
      "metadata": {
        "id": "BYNv5OMplW1o"
      },
      "execution_count": null,
      "outputs": []
    },
    {
      "cell_type": "code",
      "source": [
        "from keras.models import load_model\n",
        "from PIL import Image\n",
        "import numpy as np\n",
        "\n",
        "# Load the trained model to classify traffic signs\n",
        "model = load_model('/content/traffic_classifier.h5')\n",
        "\n",
        "# Dictionary to label all traffic signs classes\n",
        "classes = {1: 'Speed limit (20km/h)', 2: 'Speed limit (30km/h)', 3: 'Speed limit (50km/h)',\n",
        "           4: 'Speed limit (60km/h)', 5: 'Speed limit (70km/h)', 6: 'Speed limit (80km/h)',\n",
        "           7: 'End of speed limit (80km/h)', 8: 'Speed limit (100km/h)', 9: 'Speed limit (120km/h)',\n",
        "           10: 'No passing', 11: 'No passing veh over 3.5 tons', 12: 'Right-of-way at intersection',\n",
        "           13: 'Priority road', 14: 'Yield', 15: 'Stop', 16: 'No vehicles',\n",
        "           17: 'Veh > 3.5 tons prohibited', 18: 'No entry', 19: 'General caution',\n",
        "           20: 'Dangerous curve left', 21: 'Dangerous curve right', 22: 'Double curve',\n",
        "           23: 'Bumpy road', 24: 'Slippery road', 25: 'Road narrows on the right',\n",
        "           26: 'Road work', 27: 'Traffic signals', 28: 'Pedestrians', 29: 'Children crossing',\n",
        "           30: 'Bicycles crossing', 31: 'Beware of ice/snow', 32: 'Wild animals crossing',\n",
        "           33: 'End speed + passing limits', 34: 'Turn right ahead', 35: 'Turn left ahead',\n",
        "           36: 'Ahead only', 37: 'Go straight or right', 38: 'Go straight or left',\n",
        "           39: 'Keep right', 40: 'Keep left', 41: 'Roundabout mandatory',\n",
        "           42: 'End of no passing', 43: 'End no passing veh > 3.5 tons' }\n",
        "\n",
        "def classify_image(file_path):\n",
        "    try:\n",
        "        image = Image.open(file_path)\n",
        "        image = image.resize((30, 30))\n",
        "        image = np.array(image)\n",
        "        image = np.expand_dims(image, axis=0)\n",
        "        predictions = model.predict(image)\n",
        "        pred_class = np.argmax(predictions, axis=-1)[0] + 1  # Adding 1 to match your class numbering\n",
        "        sign = classes[pred_class]\n",
        "        return sign\n",
        "    except Exception as e:\n",
        "        return f\"Error: {e}\"\n",
        "\n",
        "def main():\n",
        "    while True:\n",
        "        file_path = input(\"Enter the path to the image (or 'exit' to quit): \")\n",
        "        if file_path.lower() == 'exit':\n",
        "            break\n",
        "        sign = classify_image(file_path)\n",
        "        print(f\"Predicted Traffic Sign: {sign}\")\n",
        "\n",
        "if __name__ == \"__main__\":\n",
        "    main()\n"
      ],
      "metadata": {
        "id": "t5Zg4blub2gp",
        "colab": {
          "base_uri": "https://localhost:8080/"
        },
        "outputId": "cedfe806-ca85-41e5-9202-9d5513d1d1a9"
      },
      "execution_count": null,
      "outputs": [
        {
          "name": "stdout",
          "output_type": "stream",
          "text": [
            "Enter the path to the image (or 'exit' to quit): /content/train/0/00000_00000_00000.png\n",
            "1/1 [==============================] - 0s 275ms/step\n",
            "Predicted Traffic Sign: Speed limit (20km/h)\n",
            "Enter the path to the image (or 'exit' to quit): exit\n"
          ]
        }
      ]
    }
  ]
}